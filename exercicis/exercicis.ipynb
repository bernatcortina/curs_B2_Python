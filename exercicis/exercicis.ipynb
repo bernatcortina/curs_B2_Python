{
 "cells": [
  {
   "cell_type": "markdown",
   "metadata": {},
   "source": [
    "# Mòdul 2 - Exercicis"
   ]
  },
  {
   "cell_type": "markdown",
   "metadata": {},
   "source": [
    "## Part 1\n",
    "\n",
    "<ins>Descripció</ins>\n",
    "- Exercicis d'estructures de dades amb Python.*\n",
    "\n",
    "<ins>Objectius:</ins>\n",
    "1. Creació i accés a llistes en python.\n",
    "2. Creació i accés a tuples en python.\n",
    "3. Ús dels mètodes python.\n",
    "4. Creació i accés a sets i diccionaris en python.\n"
   ]
  },
  {
   "cell_type": "markdown",
   "metadata": {},
   "source": [
    "### 1.  **Exercici 1**\n",
    "\n",
    "*Crea una llista que agrupi els mesos de l’any en trimestres (1T: gener, febrer i març; 2T: abril, maig, juny...), és a dir, una llista amb 4 llistes dins.*"
   ]
  },
  {
   "cell_type": "code",
   "execution_count": 1,
   "metadata": {},
   "outputs": [],
   "source": [
    "mesos = [[\"gener\", \"febrer\", \"març\"],[\"abril\", \"maig\", \"juny\"],[\"juliol\", \"agost\", \"setembre\"],[\"octubre\", \"novembre\", \"desembre\"]]"
   ]
  },
  {
   "cell_type": "markdown",
   "metadata": {},
   "source": [
    "### 2.  **Exercici 2**\n",
    "\n",
    "*Crea un codi que et permeti accedir a:*\n",
    "* *El segon mes del primer trimestre.*\n",
    "* *Els mesos del primer trimestre.*\n",
    "* *Setembre i octubre.*"
   ]
  },
  {
   "cell_type": "code",
   "execution_count": 2,
   "metadata": {},
   "outputs": [
    {
     "name": "stdout",
     "output_type": "stream",
     "text": [
      "El segon mes del primer trimestre és: febrer\n",
      "Els mesos del primer trimestre són: ['gener', 'febrer', 'març']\n",
      "Accedir a setembre i octubre: ['setembre']\n"
     ]
    }
   ],
   "source": [
    "print(f\"El segon mes del primer trimestre és: {mesos[0][1]}\") # febrer\n",
    "print(f\"Els mesos del primer trimestre són: {mesos[0]}\") # [\"gener\", \"febrer\", \"març\"]\n",
    "print(f\"Accedir a setembre i octubre: {mesos[2][2:]}\") # [\"setembre\", \"octubre\"]"
   ]
  },
  {
   "cell_type": "markdown",
   "metadata": {},
   "source": [
    "### 2.  **Exercici 3**\n",
    "\n",
    "*Crea una llista amb nombres desordenats i respon a les següents preguntes:*\n",
    "* *Quants números hi ha?*\n",
    "* *Quantes vegades apareix el número 3.*\n",
    "* *Quantes vegades apareixen els nombres 3 i 4?*\n",
    "* *Quin és el número més gran?*\n",
    "* *Quins són els 3 números més petits?*\n",
    "* *Quin és el rang d’aquesta llista?*"
   ]
  },
  {
   "cell_type": "code",
   "execution_count": 3,
   "metadata": {},
   "outputs": [
    {
     "name": "stdout",
     "output_type": "stream",
     "text": [
      "[49, 42, 38, 44, 18, 60, 34, 9, 45, 13, 27, 26, 73, 59, 80, 30, 56, 54, 48, 5, 55, 68, 75, 64, 72, 36, 65, 53, 2, 28, 66, 31, 40, 50, 58, 20, 74, 61, 39, 33, 14, 76, 67, 51, 24, 10, 7, 47, 11, 79, 32, 57, 52, 25, 35, 15, 17, 29, 0, 63, 78, 6, 8, 62, 69, 22, 16, 12, 81, 43, 19, 4, 21, 37, 46, 3, 77, 23, 41, 1, 70, 71]\n"
     ]
    }
   ],
   "source": [
    "import random\n",
    "\n",
    "llista_desordenada = []\n",
    "\n",
    "for i in range(random.randint(1,100)):\n",
    "    llista_desordenada.append(i)\n",
    "\n",
    "random.shuffle(llista_desordenada)\n",
    "print(llista_desordenada)"
   ]
  },
  {
   "cell_type": "markdown",
   "metadata": {},
   "source": [
    "* *Quants números hi ha?*"
   ]
  },
  {
   "cell_type": "code",
   "execution_count": 4,
   "metadata": {},
   "outputs": [
    {
     "data": {
      "text/plain": [
       "82"
      ]
     },
     "execution_count": 4,
     "metadata": {},
     "output_type": "execute_result"
    }
   ],
   "source": [
    "len(llista_desordenada)"
   ]
  },
  {
   "cell_type": "markdown",
   "metadata": {},
   "source": [
    "* *Quantes vegades apareix el número 3.*"
   ]
  },
  {
   "cell_type": "code",
   "execution_count": 5,
   "metadata": {},
   "outputs": [
    {
     "data": {
      "text/plain": [
       "1"
      ]
     },
     "execution_count": 5,
     "metadata": {},
     "output_type": "execute_result"
    }
   ],
   "source": [
    "llista_desordenada.count(3)"
   ]
  },
  {
   "cell_type": "markdown",
   "metadata": {},
   "source": [
    "* *Quantes vegades apareixen els nombres 3 i 4?*"
   ]
  },
  {
   "cell_type": "code",
   "execution_count": 6,
   "metadata": {},
   "outputs": [
    {
     "name": "stdout",
     "output_type": "stream",
     "text": [
      "El nombre 3 apareix 1 vegada/es a la llista\n",
      "El nombre 4 apareix 1 vegada/es a la llista\n"
     ]
    }
   ],
   "source": [
    "num3 = llista_desordenada.count(3)\n",
    "num4 = llista_desordenada.count(4)\n",
    "\n",
    "print(f\"El nombre 3 apareix {num3} vegada/es a la llista\")\n",
    "print(f\"El nombre 4 apareix {num4} vegada/es a la llista\")"
   ]
  },
  {
   "cell_type": "markdown",
   "metadata": {},
   "source": [
    "* *Quin és el número més gran?*"
   ]
  },
  {
   "cell_type": "code",
   "execution_count": 7,
   "metadata": {},
   "outputs": [
    {
     "name": "stdout",
     "output_type": "stream",
     "text": [
      "El número més gran és el 81\n"
     ]
    }
   ],
   "source": [
    "n_gran = max(llista_desordenada)\n",
    "\n",
    "print(f\"El número més gran és el {n_gran}\")"
   ]
  },
  {
   "cell_type": "markdown",
   "metadata": {},
   "source": [
    "* *Quins són els 3 números més petits?*"
   ]
  },
  {
   "cell_type": "code",
   "execution_count": 8,
   "metadata": {},
   "outputs": [
    {
     "name": "stdout",
     "output_type": "stream",
     "text": [
      "Els 3 números més petits són: [0, 1, 2]\n"
     ]
    }
   ],
   "source": [
    "petits3 = []\n",
    "\n",
    "for i in range(3):\n",
    "    petits3.append(i)\n",
    "\n",
    "print(f\"Els 3 números més petits són: {petits3}\")"
   ]
  },
  {
   "cell_type": "markdown",
   "metadata": {},
   "source": [
    "* *Quin és el rang d’aquesta llista?*"
   ]
  },
  {
   "cell_type": "code",
   "execution_count": 9,
   "metadata": {},
   "outputs": [
    {
     "name": "stdout",
     "output_type": "stream",
     "text": [
      "El valor més gran és 81 i el valor més petit és 0.\n",
      "Per tant, el rang de la llista és: 81\n"
     ]
    }
   ],
   "source": [
    "rang = max(llista_desordenada) - min(llista_desordenada)\n",
    "\n",
    "print(f\"El valor més gran és {max(llista_desordenada)} i el valor més petit és {min(llista_desordenada)}.\\nPer tant, el rang de la llista és: {rang}\")\n"
   ]
  },
  {
   "cell_type": "markdown",
   "metadata": {},
   "source": [
    "### 2.  **Exercici 4**\n",
    "\n",
    "*Crea un diccionari de la següent forma i respon a les preguntes:*\n",
    "\n",
    "```compra = { \"Pomes\" : {\"Qty\": 5, \"€\": 0.42}, \"Peres\" : {\"Qty\": 3, \"€\": 0.66} }```\n",
    "\n",
    "* *Afegeix alguna fruita més*\n",
    "* *Quant han costat les peres en total?*\n",
    "* *Quantes fruites hem comprat en total?*\n",
    "* *Quina és la fruita més cara?*\n"
   ]
  },
  {
   "cell_type": "code",
   "execution_count": 10,
   "metadata": {},
   "outputs": [],
   "source": [
    "compra = { \"Pomes\" : {\"Qty\": 5, \"€\": 0.42}, \"Peres\" : {\"Qty\": 3, \"€\": 0.66} }"
   ]
  },
  {
   "cell_type": "markdown",
   "metadata": {},
   "source": [
    "* *Afegeix alguna fruita més*"
   ]
  },
  {
   "cell_type": "code",
   "execution_count": 11,
   "metadata": {},
   "outputs": [
    {
     "name": "stdout",
     "output_type": "stream",
     "text": [
      "{'Pomes': {'Qty': 5, '€': 0.42}, 'Peres': {'Qty': 3, '€': 0.66}, 'Maduixes': {'Qty': 2, '€': 0.85}}\n"
     ]
    }
   ],
   "source": [
    "compra[\"Maduixes\"] = {\"Qty\": 2, \"€\": 0.85}\n",
    "\n",
    "print(compra)"
   ]
  },
  {
   "cell_type": "markdown",
   "metadata": {},
   "source": [
    "* *Quant han costat les peres en total?*"
   ]
  },
  {
   "cell_type": "code",
   "execution_count": 12,
   "metadata": {},
   "outputs": [
    {
     "name": "stdout",
     "output_type": "stream",
     "text": [
      "En total, el preu de les peres és: 1.98\n"
     ]
    }
   ],
   "source": [
    "preu_peres = compra[\"Peres\"][\"Qty\"] * compra[\"Peres\"][\"€\"]\n",
    "\n",
    "print(f\"En total, el preu de les peres és: {preu_peres}\")"
   ]
  },
  {
   "cell_type": "markdown",
   "metadata": {},
   "source": [
    "* *Quantes fruites hem comprat en total?*"
   ]
  },
  {
   "cell_type": "code",
   "execution_count": 13,
   "metadata": {},
   "outputs": [
    {
     "name": "stdout",
     "output_type": "stream",
     "text": [
      "La quantitat total de fruites comprades és: 10\n"
     ]
    }
   ],
   "source": [
    "total_fruites = 0\n",
    "\n",
    "for key, value in compra.items():\n",
    "    total_fruites += value[\"Qty\"]\n",
    "\n",
    "print(f\"La quantitat total de fruites comprades és: {total_fruites}\")"
   ]
  },
  {
   "cell_type": "markdown",
   "metadata": {},
   "source": [
    "* *Quina és la fruita més cara?*"
   ]
  },
  {
   "cell_type": "code",
   "execution_count": 14,
   "metadata": {},
   "outputs": [
    {
     "name": "stdout",
     "output_type": "stream",
     "text": [
      "La fruita més cara són les Maduixes i costen 0.85\n"
     ]
    }
   ],
   "source": [
    "car = 0\n",
    "fruita =\"\"\n",
    "\n",
    "for key, value in compra.items():\n",
    "    if value[\"€\"] > car:\n",
    "        car = value[\"€\"]\n",
    "        fruita = key\n",
    "\n",
    "print(f\"La fruita més cara són les {fruita} i costen {car}\")\n",
    "    "
   ]
  },
  {
   "cell_type": "markdown",
   "metadata": {},
   "source": [
    "## Part 2\n",
    "\n",
    "<ins>Descripció:</ins>\n",
    "- Exercicis d'estructures de control amb Python.\n",
    "\n",
    "<ins>Objectius:</ins>\n",
    "1. Ús de condicionals i bucles. \n",
    "2. Apendre a utilitzar if/else/elif. \n",
    "3. Creació de funcions. "
   ]
  },
  {
   "cell_type": "markdown",
   "metadata": {},
   "source": [
    "### 1.  **Exercici 1**\n",
    "\n",
    "*L'exercici consisteix a crear una funció que et classifiqui una variable numèrica en funció de l’escala Suspès/Aprovat/Notable/Excel·lent.*\n",
    "*Recorda que Suspès < 5, Aprovat > 5 i < 7, Notable > 7 i < 9 i Excel·lent > 9.*"
   ]
  },
  {
   "cell_type": "code",
   "execution_count": 15,
   "metadata": {},
   "outputs": [
    {
     "data": {
      "text/plain": [
       "'Notable'"
      ]
     },
     "execution_count": 15,
     "metadata": {},
     "output_type": "execute_result"
    }
   ],
   "source": [
    "def classificar(nota):\n",
    "    if nota < 5:\n",
    "        return \"Suspès\"\n",
    "    elif nota >= 5 and nota < 7:\n",
    "        return \"Aprovat\"\n",
    "    elif nota >= 7 and nota < 9:\n",
    "        return \"Notable\"\n",
    "    else:\n",
    "        return \"Excel·lent\"\n",
    "\n",
    "nota = int(input(\"Quina nota tens? \"))\n",
    "classificar(nota)"
   ]
  },
  {
   "cell_type": "markdown",
   "metadata": {},
   "source": [
    "### 2.  **Exercici 2**\n",
    "\n",
    "*Utilitzant el següent tutorial crea una funció que et pregunti dos números. T’ha de mostrar un missatge dient si el primer és més gran, el segon és més gran o són iguals.*\n",
    "\n",
    "* [Programiz: Python Input, Output and Import](https://www.programiz.com/python-programming/input-output-import)"
   ]
  },
  {
   "cell_type": "code",
   "execution_count": 16,
   "metadata": {},
   "outputs": [
    {
     "name": "stdout",
     "output_type": "stream",
     "text": [
      "El primer número (44) és més gran que el segon (23).\n"
     ]
    }
   ],
   "source": [
    "def comparar(num1, num2):\n",
    "    if num1 > num2:\n",
    "        print(f\"El primer número ({num1}) és més gran que el segon ({num2}).\")\n",
    "    elif num1 < num2:\n",
    "        print(f\"El primer número ({num1}) és més petit que el segon ({num2}).\")\n",
    "    else:\n",
    "        print(f\"El dos números ({num1}, {num2}) són iguals.\")\n",
    "\n",
    "def preguntar():\n",
    "    num1 = int(input(\"Escriu el primer número: \"))\n",
    "    num2 = int(input(\"Escriu el primer número: \"))\n",
    "\n",
    "    return(num1, num2)\n",
    "\n",
    "num1, num2 = preguntar()\n",
    "comparar(num1, num2)"
   ]
  },
  {
   "cell_type": "markdown",
   "metadata": {},
   "source": [
    "### 3.  **Exercici 3**\n",
    "\n",
    "*Crea una funció que et pregunti el teu nom, i et demani un número. Si el número és 0, hauria de mostrar un missatge d’error. En cas contrari, hauria de mostrar el nom repetit tants cops com indiqui el número. Per exemple, “Joan Joan Joan”.*"
   ]
  },
  {
   "cell_type": "code",
   "execution_count": 17,
   "metadata": {},
   "outputs": [
    {
     "name": "stdout",
     "output_type": "stream",
     "text": [
      "Bernat Bernat Bernat Bernat "
     ]
    }
   ],
   "source": [
    "def repetir_nom(nom, num):\n",
    "    if num == 0:\n",
    "        print(\"El número no pot ser 0.\")\n",
    "    elif num < 0:\n",
    "        print(\"El númeron no pot ser negatiu.\")\n",
    "    else:\n",
    "        for i in range(num):\n",
    "            print(nom, end=\" \")\n",
    "\n",
    "nom = input(\"Quin és el teu nom? \")\n",
    "num = int(input(\"Quantes vegades vols repetir el teu nom? \"))\n",
    "\n",
    "repetir_nom(nom, num)"
   ]
  },
  {
   "cell_type": "markdown",
   "metadata": {},
   "source": [
    "### 4.  **Exercici 4**\n",
    "\n",
    "*Crea una funció que donada una llista qualsevol, et digui si és simètrica o no. Si ho és, que et digui quants elements té.*"
   ]
  },
  {
   "cell_type": "code",
   "execution_count": 18,
   "metadata": {},
   "outputs": [
    {
     "name": "stdout",
     "output_type": "stream",
     "text": [
      "la llista 0 és simètrica [1, 'a', 'a', 1]\n",
      "la llista 1 no és simètrica [1, 2, 3, 2, 1]\n"
     ]
    }
   ],
   "source": [
    "def es_simetrica(llista):\n",
    "    if len(llista) % 2 == 1:\n",
    "        return False\n",
    "\n",
    "    for i in range(len(llista) // 2):\n",
    "        if llista[i] != llista[-i - 1]:\n",
    "            return False\n",
    "\n",
    "    return True\n",
    "\n",
    "llista1 = [1, \"a\", \"a\", 1]\n",
    "llista2 = [1, 2, 3, 2, 1]\n",
    "llistes = [llista1, llista2]\n",
    "\n",
    "for i in range(len(llistes)):\n",
    "    if es_simetrica(llistes[i]):\n",
    "        print(f\"la llista {i} és simètrica {llistes[i]}\")\n",
    "    else: \n",
    "        print(f\"la llista {i} no és simètrica {llistes[i]}\")\n"
   ]
  },
  {
   "cell_type": "markdown",
   "metadata": {},
   "source": [
    "### 5.  **Exercici 5**\n",
    "\n",
    "*Crea una funció que donada una llista, et digui quants números coincideixen amb la seva posició. Per exemple [3,4,2,0,2,3,6] el 2 i el 6 coincideixen.*"
   ]
  },
  {
   "cell_type": "code",
   "execution_count": 19,
   "metadata": {},
   "outputs": [
    {
     "name": "stdout",
     "output_type": "stream",
     "text": [
      "En la llista [3, 4, 2, 0, 2, 3, 6], hi ha 2 números que coincideixen amb la seva posició, són el/s: [2, 6]\n"
     ]
    }
   ],
   "source": [
    "def coincidencia_posicio(llista):\n",
    "    comptador = 0\n",
    "    nums = []\n",
    "\n",
    "    for i in range(len(llista)):\n",
    "        if i == llista[i]:\n",
    "            comptador += 1\n",
    "            nums.append(llista[i])\n",
    "\n",
    "    return comptador, nums\n",
    "\n",
    "\n",
    "llista = [3, 4, 2, 0, 2, 3, 6]\n",
    "comptador, nums = coincidencia_posicio(llista)\n",
    "\n",
    "print(f\"En la llista {llista}, hi ha {comptador} números que coincideixen amb la seva posició, són el/s: {nums}\")"
   ]
  }
 ],
 "metadata": {
  "kernelspec": {
   "display_name": "Python 3",
   "language": "python",
   "name": "python3"
  },
  "language_info": {
   "codemirror_mode": {
    "name": "ipython",
    "version": 3
   },
   "file_extension": ".py",
   "mimetype": "text/x-python",
   "name": "python",
   "nbconvert_exporter": "python",
   "pygments_lexer": "ipython3",
   "version": "3.12.0"
  }
 },
 "nbformat": 4,
 "nbformat_minor": 5
}
